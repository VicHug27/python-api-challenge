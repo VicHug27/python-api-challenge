{
 "cells": [
  {
   "cell_type": "markdown",
   "metadata": {},
   "source": [
    "# WeatherPy\n",
    "----\n",
    "\n",
    "#### Note\n",
    "* Instructions have been included for each segment. You do not have to follow them exactly, but they are included to help you think through the steps."
   ]
  },
  {
   "cell_type": "markdown",
   "metadata": {},
   "source": [
    "## Observations:\n",
    "1.No cities with >100 humidity\n",
    "2.Majority of windspeeds appear to be under 10mph\n",
    "3.both Lower and higher humidty % levels appear above 0 latitude"
   ]
  },
  {
   "cell_type": "code",
   "execution_count": 1,
   "metadata": {
    "scrolled": true
   },
   "outputs": [],
   "source": [
    "# Dependencies and Setup\n",
    "import matplotlib.pyplot as plt\n",
    "import pandas as pd\n",
    "import numpy as np\n",
    "import requests\n",
    "import time\n",
    "from scipy.stats import linregress\n",
    "\n",
    "# Import API key\n",
    "from api_keys import weather_api_key\n",
    "\n",
    "# Incorporated citipy to determine city based on latitude and longitude\n",
    "from citipy import citipy\n",
    "\n",
    "# Output File (CSV)\n",
    "output_data_file = \"output_data/cities.csv\"\n",
    "\n",
    "# Range of latitudes and longitudes\n",
    "lat_range = (-90, 90)\n",
    "lng_range = (-180, 180)"
   ]
  },
  {
   "cell_type": "markdown",
   "metadata": {},
   "source": [
    "## Generate Cities List"
   ]
  },
  {
   "cell_type": "code",
   "execution_count": 2,
   "metadata": {},
   "outputs": [
    {
     "data": {
      "text/plain": [
       "614"
      ]
     },
     "execution_count": 2,
     "metadata": {},
     "output_type": "execute_result"
    }
   ],
   "source": [
    "# List for holding lat_lngs and cities\n",
    "lat_lngs = []\n",
    "cities = []\n",
    "\n",
    "# Create a set of random lat and lng combinations\n",
    "lats = np.random.uniform(lat_range[0], lat_range[1], size=1500)\n",
    "lngs = np.random.uniform(lng_range[0], lng_range[1], size=1500)\n",
    "lat_lngs = zip(lats, lngs)\n",
    "\n",
    "# Identify nearest city for each lat, lng combination\n",
    "for lat_lng in lat_lngs:\n",
    "    city = citipy.nearest_city(lat_lng[0], lat_lng[1]).city_name\n",
    "    \n",
    "    # If the city is unique, then add it to a our cities list\n",
    "    if city not in cities:\n",
    "        cities.append(city)\n",
    "\n",
    "# Print the city count to confirm sufficient count\n",
    "len(cities)"
   ]
  },
  {
   "cell_type": "markdown",
   "metadata": {},
   "source": [
    "### Perform API Calls\n",
    "* Perform a weather check on each city using a series of successive API calls.\n",
    "* Include a print log of each city as it'sbeing processed (with the city number and city name).\n"
   ]
  },
  {
   "cell_type": "code",
   "execution_count": 3,
   "metadata": {},
   "outputs": [],
   "source": [
    "city_name_list = []\n",
    "cloudiness_list = []\n",
    "country_list = []\n",
    "date_list = []\n",
    "humidity_list = []\n",
    "lat_list = []\n",
    "lng_list = []\n",
    "max_temp_list = []\n",
    "wind_speed_list = []\n",
    "index_counter = 0\n"
   ]
  },
  {
   "cell_type": "code",
   "execution_count": 4,
   "metadata": {
    "scrolled": true
   },
   "outputs": [
    {
     "name": "stdout",
     "output_type": "stream",
     "text": [
      "City not found. Skipping...\n",
      "Processing Record 1: albany\n",
      "Processing Record 2: vestmanna\n",
      "Processing Record 3: busselton\n",
      "Processing Record 4: faanui\n",
      "Processing Record 5: yellowknife\n",
      "Processing Record 6: gdansk\n",
      "Processing Record 7: rapid valley\n",
      "Processing Record 8: sitka\n",
      "Processing Record 9: puerto ayora\n",
      "Processing Record 10: ushuaia\n",
      "Processing Record 11: hithadhoo\n",
      "Processing Record 12: woodward\n",
      "Processing Record 13: moundou\n",
      "Processing Record 14: cidreira\n",
      "Processing Record 15: cape town\n",
      "Processing Record 16: butaritari\n",
      "City not found. Skipping...\n",
      "Processing Record 17: kodiak\n",
      "Processing Record 18: hermosillo\n",
      "Processing Record 19: port elizabeth\n",
      "Processing Record 20: shieli\n",
      "Processing Record 21: hobart\n",
      "Processing Record 22: maldonado\n",
      "Processing Record 23: half moon bay\n",
      "Processing Record 24: santa maria\n",
      "Processing Record 25: chlorakas\n",
      "Processing Record 26: lebu\n",
      "Processing Record 27: hilo\n",
      "Processing Record 28: bluff\n",
      "Processing Record 29: mataura\n",
      "Processing Record 30: la ronge\n",
      "Processing Record 31: elat\n",
      "Processing Record 32: kapaa\n",
      "Processing Record 33: sistranda\n",
      "Processing Record 34: pevek\n",
      "Processing Record 35: chuy\n",
      "Processing Record 36: jinka\n",
      "Processing Record 37: solnechnyy\n",
      "Processing Record 38: fairbanks\n",
      "Processing Record 39: punta arenas\n",
      "Processing Record 40: san patricio\n",
      "Processing Record 41: aviles\n",
      "Processing Record 42: cayeli\n",
      "City not found. Skipping...\n",
      "Processing Record 43: lompoc\n",
      "Processing Record 44: atuona\n",
      "Processing Record 45: nikolskoye\n",
      "Processing Record 46: honningsvag\n",
      "City not found. Skipping...\n",
      "City not found. Skipping...\n",
      "Processing Record 47: nizhniy lomov\n",
      "Processing Record 48: ystad\n",
      "City not found. Skipping...\n",
      "Processing Record 49: vaxjo\n",
      "Processing Record 50: flinders\n",
      "Processing Record 51: rikitea\n",
      "Processing Record 52: aklavik\n",
      "Processing Record 53: sur\n",
      "Processing Record 54: aswan\n",
      "Processing Record 55: manggar\n",
      "Processing Record 56: kargopol\n",
      "Processing Record 57: bengkulu\n",
      "Processing Record 58: natal\n",
      "Processing Record 59: tuktoyaktuk\n",
      "Processing Record 60: dikson\n",
      "Processing Record 61: newport\n",
      "Processing Record 62: itarema\n",
      "Processing Record 63: kudahuvadhoo\n",
      "Processing Record 64: leh\n",
      "Processing Record 65: mahebourg\n",
      "Processing Record 66: meiganga\n",
      "Processing Record 67: khatanga\n",
      "City not found. Skipping...\n",
      "Processing Record 68: nuevo progreso\n",
      "Processing Record 69: mackay\n",
      "Processing Record 70: touros\n",
      "Processing Record 71: avarua\n",
      "Processing Record 72: coihaique\n",
      "Processing Record 73: colesberg\n",
      "Processing Record 74: rio grande\n",
      "Processing Record 75: hermanus\n",
      "Processing Record 76: kaitangata\n",
      "Processing Record 77: new norfolk\n",
      "Processing Record 78: westport\n",
      "Processing Record 79: shache\n",
      "Processing Record 80: ust-kulom\n",
      "Processing Record 81: cabo san lucas\n",
      "Processing Record 82: richards bay\n",
      "City not found. Skipping...\n",
      "Processing Record 83: nizhnyaya omka\n",
      "Processing Record 84: mount gambier\n",
      "Processing Record 85: matara\n",
      "Processing Record 86: veinticinco de mayo\n",
      "Processing Record 87: hualmay\n",
      "Processing Record 88: georgetown\n",
      "Processing Record 89: abbeville\n",
      "Processing Record 90: madang\n",
      "Processing Record 91: qaanaaq\n",
      "Processing Record 92: puksoozero\n",
      "Processing Record 93: mayo\n",
      "Processing Record 94: ostrovnoy\n",
      "Processing Record 95: qasigiannguit\n",
      "Processing Record 96: tura\n",
      "Processing Record 97: tanout\n",
      "Processing Record 98: port alfred\n",
      "Processing Record 99: longyan\n",
      "City not found. Skipping...\n",
      "Processing Record 100: tommot\n",
      "Processing Record 101: rio cuarto\n",
      "City not found. Skipping...\n",
      "Processing Record 102: bredasdorp\n",
      "Processing Record 103: clyde river\n",
      "Processing Record 104: castro\n",
      "Processing Record 105: bathsheba\n",
      "Processing Record 106: mustasaari\n",
      "Processing Record 107: okato\n",
      "Processing Record 108: chokurdakh\n",
      "Processing Record 109: porto velho\n",
      "Processing Record 110: faya\n",
      "Processing Record 111: cherskiy\n",
      "Processing Record 112: camargo\n",
      "Processing Record 113: komsomolskiy\n",
      "Processing Record 114: tuatapere\n",
      "Processing Record 115: codrington\n",
      "Processing Record 116: akdepe\n",
      "Processing Record 117: yar-sale\n",
      "Processing Record 118: broken hill\n",
      "Processing Record 119: opuwo\n",
      "Processing Record 120: san felipe\n",
      "Processing Record 121: kirakira\n",
      "Processing Record 122: jamestown\n",
      "Processing Record 123: geraldton\n",
      "City not found. Skipping...\n",
      "Processing Record 124: nishihara\n",
      "Processing Record 125: virginia beach\n",
      "Processing Record 126: muscat\n",
      "Processing Record 127: upernavik\n",
      "Processing Record 128: sabha\n",
      "Processing Record 129: vaini\n",
      "Processing Record 130: krasnoselkup\n",
      "Processing Record 131: lavrentiya\n",
      "Processing Record 132: cabanas\n",
      "Processing Record 133: dinguiraye\n",
      "Processing Record 134: tiksi\n",
      "Processing Record 135: nan\n",
      "Processing Record 136: ponta do sol\n",
      "Processing Record 137: iqaluit\n",
      "Processing Record 138: cayenne\n",
      "Processing Record 139: puyang\n",
      "Processing Record 140: galveston\n",
      "Processing Record 141: narsaq\n",
      "Processing Record 142: sao filipe\n",
      "Processing Record 143: baghdad\n",
      "Processing Record 144: kautokeino\n",
      "Processing Record 145: saskylakh\n",
      "Processing Record 146: tabuk\n",
      "Processing Record 147: griffith\n",
      "Processing Record 148: victoria\n",
      "Processing Record 149: jardim\n",
      "Processing Record 150: denpasar\n",
      "Processing Record 151: ust-tsilma\n",
      "Processing Record 152: lodja\n",
      "Processing Record 153: saint-philippe\n",
      "Processing Record 154: tasiilaq\n",
      "Processing Record 155: coffs harbour\n",
      "Processing Record 156: adre\n",
      "Processing Record 157: naberera\n",
      "Processing Record 158: hit\n",
      "Processing Record 159: saint george\n",
      "Processing Record 160: pacific grove\n",
      "Processing Record 161: bud\n",
      "Processing Record 162: arraial do cabo\n",
      "Processing Record 163: olavarria\n",
      "City not found. Skipping...\n",
      "City not found. Skipping...\n",
      "Processing Record 164: madimba\n",
      "City not found. Skipping...\n",
      "Processing Record 165: wanaka\n",
      "Processing Record 166: klaksvik\n",
      "Processing Record 167: letlhakeng\n",
      "Processing Record 168: puerto narino\n",
      "Processing Record 169: hirara\n",
      "Processing Record 170: borujerd\n",
      "City not found. Skipping...\n",
      "Processing Record 171: kidal\n",
      "Processing Record 172: verkhoyansk\n",
      "Processing Record 173: esperance\n",
      "Processing Record 174: ahipara\n",
      "Processing Record 175: moscow\n",
      "Processing Record 176: manaira\n",
      "Processing Record 177: port lincoln\n",
      "Processing Record 178: gravelbourg\n",
      "Processing Record 179: gazojak\n",
      "Processing Record 180: kloulklubed\n",
      "City not found. Skipping...\n",
      "Processing Record 181: leningradskiy\n",
      "Processing Record 182: taoudenni\n",
      "Processing Record 183: marawi\n",
      "Processing Record 184: vuktyl\n",
      "Processing Record 185: bethel\n",
      "Processing Record 186: killybegs\n",
      "City not found. Skipping...\n",
      "Processing Record 187: saint-joseph\n",
      "Processing Record 188: olafsvik\n",
      "City not found. Skipping...\n",
      "Processing Record 189: mao\n",
      "Processing Record 190: champerico\n",
      "Processing Record 191: los llanos de aridane\n",
      "Processing Record 192: aykhal\n",
      "Processing Record 193: carnarvon\n",
      "Processing Record 194: yerbogachen\n",
      "Processing Record 195: hasaki\n",
      "Processing Record 196: vardo\n",
      "Processing Record 197: souillac\n",
      "Processing Record 198: vila\n",
      "Processing Record 199: pochutla\n",
      "Processing Record 200: alamosa\n",
      "Processing Record 201: luau\n",
      "Processing Record 202: hamilton\n",
      "City not found. Skipping...\n",
      "Processing Record 203: kavaratti\n",
      "Processing Record 204: thompson\n",
      "Processing Record 205: tairua\n",
      "Processing Record 206: jiamusi\n",
      "Processing Record 207: havoysund\n",
      "Processing Record 208: barrow\n",
      "Processing Record 209: benalla\n",
      "Processing Record 210: valparaiso\n",
      "Processing Record 211: mehamn\n",
      "Processing Record 212: rocha\n",
      "Processing Record 213: port hardy\n",
      "Processing Record 214: west lafayette\n",
      "Processing Record 215: myitkyina\n",
      "Processing Record 216: amahai\n",
      "Processing Record 217: severo-kurilsk\n",
      "Processing Record 218: kununurra\n",
      "Processing Record 219: christchurch\n",
      "City not found. Skipping...\n",
      "Processing Record 220: sola\n",
      "Processing Record 221: baykit\n",
      "Processing Record 222: airai\n",
      "Processing Record 223: huntsville\n",
      "Processing Record 224: qaqortoq\n",
      "Processing Record 225: balkanabat\n",
      "Processing Record 226: sorland\n",
      "Processing Record 227: dzhebariki-khaya\n",
      "City not found. Skipping...\n",
      "Processing Record 228: vilyuysk\n",
      "Processing Record 229: nanortalik\n",
      "Processing Record 230: ketchikan\n",
      "Processing Record 231: constantine\n",
      "Processing Record 232: comodoro rivadavia\n",
      "Processing Record 233: khani\n",
      "Processing Record 234: ramnagar\n",
      "Processing Record 235: vanimo\n",
      "Processing Record 236: bilibino\n",
      "Processing Record 237: reftinskiy\n",
      "Processing Record 238: kieta\n",
      "Processing Record 239: yatou\n",
      "City not found. Skipping...\n"
     ]
    },
    {
     "name": "stdout",
     "output_type": "stream",
     "text": [
      "Processing Record 240: adolfo lopez mateos\n",
      "Processing Record 241: antsohihy\n",
      "Processing Record 242: mandalgovi\n",
      "Processing Record 243: ilulissat\n",
      "Processing Record 244: naze\n",
      "Processing Record 245: srednekolymsk\n",
      "Processing Record 246: ballina\n",
      "Processing Record 247: rio de janeiro\n",
      "Processing Record 248: nakusp\n",
      "Processing Record 249: sao joao da barra\n",
      "City not found. Skipping...\n",
      "Processing Record 250: banda aceh\n",
      "Processing Record 251: taguatinga\n",
      "Processing Record 252: longyearbyen\n",
      "Processing Record 253: verkhnyaya inta\n",
      "Processing Record 254: luganville\n",
      "Processing Record 255: kushmurun\n",
      "City not found. Skipping...\n",
      "Processing Record 256: salalah\n",
      "Processing Record 257: corum\n",
      "Processing Record 258: takaungu\n",
      "Processing Record 259: asau\n",
      "Processing Record 260: ancud\n",
      "Processing Record 261: walvis bay\n",
      "Processing Record 262: conakry\n",
      "Processing Record 263: tautira\n",
      "Processing Record 264: turayf\n",
      "Processing Record 265: ribeira grande\n",
      "Processing Record 266: victor harbor\n",
      "Processing Record 267: makakilo city\n",
      "Processing Record 268: shelburne\n",
      "Processing Record 269: east london\n",
      "Processing Record 270: bam\n",
      "Processing Record 271: thanh hoa\n",
      "Processing Record 272: acajutla\n",
      "Processing Record 273: havre-saint-pierre\n",
      "Processing Record 274: provideniya\n",
      "Processing Record 275: kaeo\n",
      "Processing Record 276: bouna\n",
      "Processing Record 277: najran\n",
      "Processing Record 278: kindia\n",
      "Processing Record 279: vila velha\n",
      "Processing Record 280: gold coast\n",
      "Processing Record 281: vestmannaeyjar\n",
      "Processing Record 282: izhma\n",
      "Processing Record 283: port macquarie\n",
      "Processing Record 284: praia\n",
      "Processing Record 285: berlevag\n",
      "Processing Record 286: shagonar\n",
      "Processing Record 287: porbandar\n",
      "Processing Record 288: angoram\n",
      "Processing Record 289: mar del plata\n",
      "Processing Record 290: kavieng\n",
      "Processing Record 291: isangel\n",
      "City not found. Skipping...\n",
      "Processing Record 292: oudtshoorn\n",
      "Processing Record 293: hutang\n",
      "Processing Record 294: gwadar\n",
      "Processing Record 295: broome\n",
      "Processing Record 296: katobu\n",
      "Processing Record 297: muyezerskiy\n",
      "Processing Record 298: chapais\n",
      "Processing Record 299: luderitz\n",
      "Processing Record 300: pisco\n",
      "Processing Record 301: brive-la-gaillarde\n",
      "City not found. Skipping...\n",
      "City not found. Skipping...\n",
      "Processing Record 302: bandarbeyla\n",
      "Processing Record 303: severodvinsk\n",
      "Processing Record 304: laguna\n",
      "Processing Record 305: sept-iles\n",
      "Processing Record 306: itaituba\n",
      "Processing Record 307: dingalan\n",
      "Processing Record 308: sinnar\n",
      "Processing Record 309: creston\n",
      "City not found. Skipping...\n",
      "Processing Record 310: katsuura\n",
      "Processing Record 311: curup\n",
      "Processing Record 312: grand gaube\n",
      "Processing Record 313: koslan\n",
      "Processing Record 314: saint-francois\n",
      "Processing Record 315: kodinsk\n",
      "Processing Record 316: dharchula\n",
      "Processing Record 317: trujillo\n",
      "Processing Record 318: ilhabela\n",
      "Processing Record 319: saint-augustin\n",
      "Processing Record 320: agirish\n",
      "Processing Record 321: namibe\n",
      "Processing Record 322: bella union\n",
      "City not found. Skipping...\n",
      "City not found. Skipping...\n",
      "Processing Record 323: arman\n",
      "Processing Record 324: batabano\n",
      "Processing Record 325: bambous virieux\n",
      "Processing Record 326: kamenka\n",
      "Processing Record 327: camocim\n",
      "Processing Record 328: kourou\n",
      "Processing Record 329: bafra\n",
      "Processing Record 330: patan\n",
      "Processing Record 331: talnakh\n",
      "Processing Record 332: anchorage\n",
      "Processing Record 333: nome\n",
      "Processing Record 334: dolores\n",
      "Processing Record 335: tanhacu\n",
      "Processing Record 336: oktyabrskoye\n",
      "Processing Record 337: zavallya\n",
      "Processing Record 338: luanda\n",
      "Processing Record 339: poum\n",
      "Processing Record 340: oyama\n",
      "Processing Record 341: zanesville\n",
      "Processing Record 342: voh\n",
      "Processing Record 343: pundaguitan\n",
      "Processing Record 344: nador\n",
      "Processing Record 345: semirom\n",
      "Processing Record 346: boa vista\n",
      "Processing Record 347: sao jose da coroa grande\n",
      "Processing Record 348: abdulino\n",
      "Processing Record 349: tarko-sale\n",
      "Processing Record 350: vostok\n",
      "Processing Record 351: nchelenge\n",
      "Processing Record 352: ascoli piceno\n",
      "Processing Record 353: auriflama\n",
      "Processing Record 354: korla\n",
      "Processing Record 355: acapulco\n",
      "Processing Record 356: barcelos\n",
      "Processing Record 357: palmer\n",
      "Processing Record 358: palma\n",
      "Processing Record 359: baracoa\n",
      "Processing Record 360: kalmunai\n",
      "Processing Record 361: kobyzhcha\n",
      "Processing Record 362: kabarnet\n",
      "City not found. Skipping...\n",
      "Processing Record 363: koumac\n",
      "Processing Record 364: togur\n",
      "Processing Record 365: daru\n",
      "Processing Record 366: panlaitan\n",
      "Processing Record 367: carballo\n",
      "Processing Record 368: poya\n",
      "City not found. Skipping...\n",
      "Processing Record 369: vossevangen\n",
      "Processing Record 370: lumding\n",
      "Processing Record 371: puerto ayacucho\n",
      "Processing Record 372: general roca\n",
      "Processing Record 373: athens\n",
      "Processing Record 374: uglegorsk\n",
      "Processing Record 375: longavi\n",
      "Processing Record 376: ust-barguzin\n",
      "Processing Record 377: masty\n",
      "Processing Record 378: kefalos\n",
      "Processing Record 379: abaza\n",
      "Processing Record 380: sisimiut\n",
      "Processing Record 381: cervo\n",
      "Processing Record 382: qandala\n",
      "Processing Record 383: lalmohan\n",
      "City not found. Skipping...\n",
      "Processing Record 384: naryan-mar\n",
      "Processing Record 385: coihueco\n",
      "Processing Record 386: aksu\n",
      "Processing Record 387: abay\n",
      "Processing Record 388: nurota\n",
      "Processing Record 389: bedum\n",
      "Processing Record 390: barraute\n",
      "Processing Record 391: pictou\n",
      "Processing Record 392: samarai\n",
      "Processing Record 393: tabatinga\n",
      "Processing Record 394: quatre cocos\n",
      "City not found. Skipping...\n",
      "City not found. Skipping...\n",
      "Processing Record 395: shimoda\n",
      "Processing Record 396: cockburn town\n",
      "Processing Record 397: mount isa\n",
      "Processing Record 398: ugoofaaru\n",
      "City not found. Skipping...\n",
      "Processing Record 399: harper\n",
      "Processing Record 400: ulaangom\n",
      "City not found. Skipping...\n",
      "Processing Record 401: tahoua\n",
      "Processing Record 402: abha\n",
      "Processing Record 403: necochea\n",
      "Processing Record 404: yumen\n",
      "Processing Record 405: flin flon\n",
      "Processing Record 406: port hedland\n",
      "City not found. Skipping...\n",
      "Processing Record 407: fortuna\n",
      "Processing Record 408: roebourne\n",
      "Processing Record 409: padang\n",
      "Processing Record 410: san juan\n",
      "Processing Record 411: pervomayskiy\n",
      "Processing Record 412: torbay\n",
      "Processing Record 413: luena\n",
      "Processing Record 414: kanel\n",
      "Processing Record 415: fort nelson\n",
      "City not found. Skipping...\n",
      "Processing Record 416: kahului\n",
      "Processing Record 417: olinda\n",
      "Processing Record 418: orange cove\n",
      "Processing Record 419: tecoanapa\n",
      "Processing Record 420: artvin\n",
      "City not found. Skipping...\n",
      "Processing Record 421: sechura\n",
      "Processing Record 422: severo-yeniseyskiy\n",
      "Processing Record 423: hargeysa\n",
      "City not found. Skipping...\n",
      "Processing Record 424: presidencia roque saenz pena\n",
      "Processing Record 425: bajil\n",
      "Processing Record 426: linguere\n",
      "Processing Record 427: chernyshevskiy\n",
      "Processing Record 428: lata\n",
      "Processing Record 429: norman wells\n",
      "Processing Record 430: lagoa\n",
      "Processing Record 431: okitipupa\n",
      "Processing Record 432: stokmarknes\n",
      "Processing Record 433: aqtobe\n",
      "Processing Record 434: vao\n",
      "Processing Record 435: margate\n",
      "City not found. Skipping...\n",
      "Processing Record 436: ust-ilimsk\n",
      "Processing Record 437: tessalit\n",
      "Processing Record 438: noumea\n",
      "Processing Record 439: avera\n",
      "City not found. Skipping...\n",
      "Processing Record 440: marsh harbour\n",
      "Processing Record 441: thunder bay\n",
      "Processing Record 442: port blair\n",
      "Processing Record 443: caravelas\n",
      "Processing Record 444: henties bay\n",
      "Processing Record 445: kletskaya\n",
      "Processing Record 446: zhangye\n",
      "Processing Record 447: sambava\n",
      "Processing Record 448: tiznit\n",
      "Processing Record 449: atar\n",
      "Processing Record 450: ubinskoye\n",
      "Processing Record 451: maceio\n",
      "Processing Record 452: lasa\n",
      "Processing Record 453: gibara\n",
      "Processing Record 454: omboue\n",
      "Processing Record 455: guayaramerin\n",
      "Processing Record 456: nantucket\n",
      "Processing Record 457: portland\n",
      "Processing Record 458: luwuk\n",
      "Processing Record 459: dongsheng\n",
      "Processing Record 460: lac-megantic\n",
      "Processing Record 461: neepawa\n",
      "Processing Record 462: egvekinot\n",
      "Processing Record 463: san cristobal\n",
      "Processing Record 464: saint anthony\n",
      "Processing Record 465: te anau\n",
      "City not found. Skipping...\n",
      "Processing Record 466: turrialba\n",
      "Processing Record 467: haines junction\n",
      "Processing Record 468: sinnamary\n",
      "Processing Record 469: ngudu\n",
      "Processing Record 470: kadom\n",
      "Processing Record 471: kinablangan\n",
      "Processing Record 472: bulgan\n",
      "Processing Record 473: anjozorobe\n"
     ]
    },
    {
     "name": "stdout",
     "output_type": "stream",
     "text": [
      "Processing Record 474: nizhneangarsk\n",
      "Processing Record 475: hambantota\n",
      "Processing Record 476: hun\n",
      "Processing Record 477: waipawa\n",
      "Processing Record 478: lenoir\n",
      "Processing Record 479: marigot\n",
      "Processing Record 480: puqi\n",
      "City not found. Skipping...\n",
      "Processing Record 481: turukhansk\n",
      "Processing Record 482: lukulu\n",
      "Processing Record 483: coquimbo\n",
      "Processing Record 484: tarancon\n",
      "Processing Record 485: beringovskiy\n",
      "Processing Record 486: camacha\n",
      "Processing Record 487: tornio\n",
      "Processing Record 488: ippy\n",
      "Processing Record 489: port-gentil\n",
      "Processing Record 490: constitucion\n",
      "Processing Record 491: kirkwood\n",
      "Processing Record 492: wichita falls\n",
      "Processing Record 493: wer\n",
      "Processing Record 494: launceston\n",
      "Processing Record 495: upata\n",
      "Processing Record 496: santa vitoria do palmar\n",
      "Processing Record 497: copiapo\n",
      "Processing Record 498: xichang\n",
      "Processing Record 499: diban\n",
      "Processing Record 500: chirongui\n",
      "Processing Record 501: pangnirtung\n",
      "Processing Record 502: kruisfontein\n",
      "Processing Record 503: molina\n",
      "Processing Record 504: edea\n",
      "Processing Record 505: siavonga\n",
      "Processing Record 506: rock springs\n",
      "Processing Record 507: rjukan\n",
      "Processing Record 508: yarke pole\n",
      "Processing Record 509: temerin\n",
      "Processing Record 510: changli\n",
      "Processing Record 511: baikunthpur\n",
      "Processing Record 512: moose factory\n",
      "Processing Record 513: nampula\n",
      "Processing Record 514: vanavara\n",
      "Processing Record 515: tilichiki\n",
      "Processing Record 516: muisne\n",
      "City not found. Skipping...\n",
      "Processing Record 517: alugan\n",
      "Processing Record 518: goderich\n",
      "Processing Record 519: baiyin\n",
      "Processing Record 520: akcakoca\n",
      "Processing Record 521: rudbar\n",
      "Processing Record 522: mogadishu\n",
      "Processing Record 523: ostersund\n",
      "Processing Record 524: alyangula\n",
      "Processing Record 525: maniitsoq\n",
      "Processing Record 526: hamada\n",
      "Processing Record 527: butte\n",
      "Processing Record 528: parole\n",
      "City not found. Skipping...\n",
      "Processing Record 529: bangassou\n",
      "Processing Record 530: mangrol\n",
      "Processing Record 531: karaton\n",
      "Processing Record 532: yongan\n",
      "Processing Record 533: arlit\n",
      "Processing Record 534: prabumulih\n",
      "Processing Record 535: kusu\n",
      "Processing Record 536: wattegama\n",
      "Processing Record 537: nizwa\n",
      "Processing Record 538: ambon\n",
      "Processing Record 539: nerja\n",
      "Processing Record 540: dayong\n",
      "Processing Record 541: erenhot\n",
      "Processing Record 542: pitsunda\n",
      "Processing Record 543: jiuquan\n",
      "Processing Record 544: pimentel\n",
      "Processing Record 545: biedenkopf\n",
      "Processing Record 546: bonney lake\n",
      "Processing Record 547: salinopolis\n",
      "Processing Record 548: doha\n",
      "Processing Record 549: vila franca do campo\n",
      "Processing Record 550: larap\n",
      "Processing Record 551: slave lake\n",
      "Processing Record 552: port shepstone\n",
      "Processing Record 553: grand-lahou\n",
      "Processing Record 554: balotra\n",
      "City not found. Skipping...\n",
      "Processing Record 555: torbeyevo\n",
      "Processing Record 556: kutum\n",
      "Processing Record 557: velyka oleksandrivka\n",
      "Processing Record 558: zima\n",
      "Processing Record 559: palm beach\n",
      "Processing Record 560: altamira\n",
      "Processing Record 561: barry\n",
      "Processing Record 562: fare\n",
      "Processing Record 563: gainesville\n",
      "Processing Record 564: kolokani\n",
      "Processing Record 565: sao miguel do araguaia\n",
      "Processing Record 566: puerto leguizamo\n",
      "Data Retrieval Complete\n"
     ]
    }
   ],
   "source": [
    "base_url = \"http://api.openweathermap.org/data/2.5/weather?\"\n",
    "units = \"imperial\"\n",
    "query_url = f\"{base_url}appid={weather_api_key}&units={units}&q=\"\n",
    "\n",
    "for city in cities:\n",
    "    try:\n",
    "        response = requests.get(query_url + city).json()\n",
    "        city_name_list.append(response[\"name\"])\n",
    "        cloudiness_list.append(response[\"clouds\"][\"all\"])\n",
    "        country_list.append(response[\"sys\"][\"country\"])\n",
    "        date_list.append(response[\"dt\"])\n",
    "        humidity_list.append(response[\"main\"][\"humidity\"])\n",
    "        lat_list.append(response[\"coord\"][\"lat\"])\n",
    "        lng_list.append(response[\"coord\"][\"lon\"])\n",
    "        max_temp_list.append(response[\"main\"][\"temp_max\"])\n",
    "        wind_speed_list.append(response[\"wind\"][\"speed\"])\n",
    "        index_counter = index_counter + 1\n",
    "        \n",
    "        print(f\"Processing Record {index_counter}: {city}\")\n",
    "       \n",
    "    except(KeyError, IndexError):\n",
    "        print(\"City not found. Skipping...\")\n",
    "        \n",
    "print(\"Data Retrieval Complete\")\n"
   ]
  },
  {
   "cell_type": "markdown",
   "metadata": {},
   "source": [
    "### Convert Raw Data to DataFrame\n",
    "* Export the city data into a .csv.\n",
    "* Display the DataFrame"
   ]
  },
  {
   "cell_type": "code",
   "execution_count": 5,
   "metadata": {},
   "outputs": [
    {
     "data": {
      "text/html": [
       "<div>\n",
       "<style scoped>\n",
       "    .dataframe tbody tr th:only-of-type {\n",
       "        vertical-align: middle;\n",
       "    }\n",
       "\n",
       "    .dataframe tbody tr th {\n",
       "        vertical-align: top;\n",
       "    }\n",
       "\n",
       "    .dataframe thead th {\n",
       "        text-align: right;\n",
       "    }\n",
       "</style>\n",
       "<table border=\"1\" class=\"dataframe\">\n",
       "  <thead>\n",
       "    <tr style=\"text-align: right;\">\n",
       "      <th></th>\n",
       "      <th>City</th>\n",
       "      <th>Lat</th>\n",
       "      <th>Lng</th>\n",
       "      <th>Max Temp</th>\n",
       "      <th>Humidity</th>\n",
       "      <th>Cloudiness</th>\n",
       "      <th>Wind Speed</th>\n",
       "      <th>Country</th>\n",
       "      <th>Date</th>\n",
       "    </tr>\n",
       "  </thead>\n",
       "  <tbody>\n",
       "    <tr>\n",
       "      <th>0</th>\n",
       "      <td>Albany</td>\n",
       "      <td>42.6001</td>\n",
       "      <td>-73.9662</td>\n",
       "      <td>48.00</td>\n",
       "      <td>70</td>\n",
       "      <td>99</td>\n",
       "      <td>3.85</td>\n",
       "      <td>US</td>\n",
       "      <td>1618703199</td>\n",
       "    </tr>\n",
       "    <tr>\n",
       "      <th>1</th>\n",
       "      <td>Vestmanna</td>\n",
       "      <td>62.1564</td>\n",
       "      <td>-7.1664</td>\n",
       "      <td>46.40</td>\n",
       "      <td>81</td>\n",
       "      <td>100</td>\n",
       "      <td>26.46</td>\n",
       "      <td>FO</td>\n",
       "      <td>1618703590</td>\n",
       "    </tr>\n",
       "    <tr>\n",
       "      <th>2</th>\n",
       "      <td>Busselton</td>\n",
       "      <td>-33.6500</td>\n",
       "      <td>115.3333</td>\n",
       "      <td>62.28</td>\n",
       "      <td>69</td>\n",
       "      <td>0</td>\n",
       "      <td>7.07</td>\n",
       "      <td>AU</td>\n",
       "      <td>1618703590</td>\n",
       "    </tr>\n",
       "    <tr>\n",
       "      <th>3</th>\n",
       "      <td>Faanui</td>\n",
       "      <td>-16.4833</td>\n",
       "      <td>-151.7500</td>\n",
       "      <td>82.35</td>\n",
       "      <td>73</td>\n",
       "      <td>79</td>\n",
       "      <td>8.72</td>\n",
       "      <td>PF</td>\n",
       "      <td>1618703591</td>\n",
       "    </tr>\n",
       "    <tr>\n",
       "      <th>4</th>\n",
       "      <td>Yellowknife</td>\n",
       "      <td>62.4560</td>\n",
       "      <td>-114.3525</td>\n",
       "      <td>35.60</td>\n",
       "      <td>64</td>\n",
       "      <td>75</td>\n",
       "      <td>10.36</td>\n",
       "      <td>CA</td>\n",
       "      <td>1618703288</td>\n",
       "    </tr>\n",
       "    <tr>\n",
       "      <th>...</th>\n",
       "      <td>...</td>\n",
       "      <td>...</td>\n",
       "      <td>...</td>\n",
       "      <td>...</td>\n",
       "      <td>...</td>\n",
       "      <td>...</td>\n",
       "      <td>...</td>\n",
       "      <td>...</td>\n",
       "      <td>...</td>\n",
       "    </tr>\n",
       "    <tr>\n",
       "      <th>561</th>\n",
       "      <td>Fare</td>\n",
       "      <td>-16.7000</td>\n",
       "      <td>-151.0167</td>\n",
       "      <td>82.11</td>\n",
       "      <td>73</td>\n",
       "      <td>8</td>\n",
       "      <td>8.70</td>\n",
       "      <td>PF</td>\n",
       "      <td>1618703612</td>\n",
       "    </tr>\n",
       "    <tr>\n",
       "      <th>562</th>\n",
       "      <td>Gainesville</td>\n",
       "      <td>29.6516</td>\n",
       "      <td>-82.3248</td>\n",
       "      <td>75.20</td>\n",
       "      <td>73</td>\n",
       "      <td>75</td>\n",
       "      <td>6.91</td>\n",
       "      <td>US</td>\n",
       "      <td>1618703776</td>\n",
       "    </tr>\n",
       "    <tr>\n",
       "      <th>563</th>\n",
       "      <td>Kolokani</td>\n",
       "      <td>13.5728</td>\n",
       "      <td>-8.0339</td>\n",
       "      <td>83.68</td>\n",
       "      <td>44</td>\n",
       "      <td>85</td>\n",
       "      <td>7.09</td>\n",
       "      <td>ML</td>\n",
       "      <td>1618703776</td>\n",
       "    </tr>\n",
       "    <tr>\n",
       "      <th>564</th>\n",
       "      <td>São Miguel do Araguaia</td>\n",
       "      <td>-13.2750</td>\n",
       "      <td>-50.1628</td>\n",
       "      <td>74.16</td>\n",
       "      <td>82</td>\n",
       "      <td>98</td>\n",
       "      <td>0.43</td>\n",
       "      <td>BR</td>\n",
       "      <td>1618703776</td>\n",
       "    </tr>\n",
       "    <tr>\n",
       "      <th>565</th>\n",
       "      <td>Caucayá</td>\n",
       "      <td>-0.1934</td>\n",
       "      <td>-74.7819</td>\n",
       "      <td>71.64</td>\n",
       "      <td>98</td>\n",
       "      <td>100</td>\n",
       "      <td>2.21</td>\n",
       "      <td>CO</td>\n",
       "      <td>1618703777</td>\n",
       "    </tr>\n",
       "  </tbody>\n",
       "</table>\n",
       "<p>566 rows × 9 columns</p>\n",
       "</div>"
      ],
      "text/plain": [
       "                       City      Lat       Lng  Max Temp  Humidity  \\\n",
       "0                    Albany  42.6001  -73.9662     48.00        70   \n",
       "1                 Vestmanna  62.1564   -7.1664     46.40        81   \n",
       "2                 Busselton -33.6500  115.3333     62.28        69   \n",
       "3                    Faanui -16.4833 -151.7500     82.35        73   \n",
       "4               Yellowknife  62.4560 -114.3525     35.60        64   \n",
       "..                      ...      ...       ...       ...       ...   \n",
       "561                    Fare -16.7000 -151.0167     82.11        73   \n",
       "562             Gainesville  29.6516  -82.3248     75.20        73   \n",
       "563                Kolokani  13.5728   -8.0339     83.68        44   \n",
       "564  São Miguel do Araguaia -13.2750  -50.1628     74.16        82   \n",
       "565                 Caucayá  -0.1934  -74.7819     71.64        98   \n",
       "\n",
       "     Cloudiness  Wind Speed Country        Date  \n",
       "0            99        3.85      US  1618703199  \n",
       "1           100       26.46      FO  1618703590  \n",
       "2             0        7.07      AU  1618703590  \n",
       "3            79        8.72      PF  1618703591  \n",
       "4            75       10.36      CA  1618703288  \n",
       "..          ...         ...     ...         ...  \n",
       "561           8        8.70      PF  1618703612  \n",
       "562          75        6.91      US  1618703776  \n",
       "563          85        7.09      ML  1618703776  \n",
       "564          98        0.43      BR  1618703776  \n",
       "565         100        2.21      CO  1618703777  \n",
       "\n",
       "[566 rows x 9 columns]"
      ]
     },
     "execution_count": 5,
     "metadata": {},
     "output_type": "execute_result"
    }
   ],
   "source": [
    "weather_dict = pd.DataFrame({\n",
    "    \"City\" : city_name_list,\n",
    "    \"Lat\" : lat_list,\n",
    "    \"Lng\" : lng_list,\n",
    "    \"Max Temp\" : max_temp_list,\n",
    "    \"Humidity\" : humidity_list,\n",
    "    \"Cloudiness\" : cloudiness_list,\n",
    "    \"Wind Speed\" : wind_speed_list,\n",
    "    \"Country\" : country_list,\n",
    "    \"Date\" : date_list,})\n",
    "\n",
    "weather_dict.to_csv('weather_data.csv')\n",
    "\n",
    "weather_data = pd.DataFrame(weather_dict)\n",
    "weather_data"
   ]
  },
  {
   "cell_type": "code",
   "execution_count": 6,
   "metadata": {},
   "outputs": [
    {
     "data": {
      "text/html": [
       "<div>\n",
       "<style scoped>\n",
       "    .dataframe tbody tr th:only-of-type {\n",
       "        vertical-align: middle;\n",
       "    }\n",
       "\n",
       "    .dataframe tbody tr th {\n",
       "        vertical-align: top;\n",
       "    }\n",
       "\n",
       "    .dataframe thead th {\n",
       "        text-align: right;\n",
       "    }\n",
       "</style>\n",
       "<table border=\"1\" class=\"dataframe\">\n",
       "  <thead>\n",
       "    <tr style=\"text-align: right;\">\n",
       "      <th></th>\n",
       "      <th>Lat</th>\n",
       "      <th>Lng</th>\n",
       "      <th>Max Temp</th>\n",
       "      <th>Humidity</th>\n",
       "      <th>Cloudiness</th>\n",
       "      <th>Wind Speed</th>\n",
       "      <th>Date</th>\n",
       "    </tr>\n",
       "  </thead>\n",
       "  <tbody>\n",
       "    <tr>\n",
       "      <th>count</th>\n",
       "      <td>566.000000</td>\n",
       "      <td>566.000000</td>\n",
       "      <td>566.000000</td>\n",
       "      <td>566.000000</td>\n",
       "      <td>566.000000</td>\n",
       "      <td>566.000000</td>\n",
       "      <td>5.660000e+02</td>\n",
       "    </tr>\n",
       "    <tr>\n",
       "      <th>mean</th>\n",
       "      <td>20.360800</td>\n",
       "      <td>18.166861</td>\n",
       "      <td>58.590742</td>\n",
       "      <td>68.208481</td>\n",
       "      <td>53.657244</td>\n",
       "      <td>7.593304</td>\n",
       "      <td>1.618704e+09</td>\n",
       "    </tr>\n",
       "    <tr>\n",
       "      <th>std</th>\n",
       "      <td>33.896216</td>\n",
       "      <td>88.804134</td>\n",
       "      <td>21.416127</td>\n",
       "      <td>22.800303</td>\n",
       "      <td>38.369270</td>\n",
       "      <td>5.020832</td>\n",
       "      <td>1.232918e+02</td>\n",
       "    </tr>\n",
       "    <tr>\n",
       "      <th>min</th>\n",
       "      <td>-54.800000</td>\n",
       "      <td>-179.166700</td>\n",
       "      <td>-20.580000</td>\n",
       "      <td>6.000000</td>\n",
       "      <td>0.000000</td>\n",
       "      <td>0.290000</td>\n",
       "      <td>1.618703e+09</td>\n",
       "    </tr>\n",
       "    <tr>\n",
       "      <th>25%</th>\n",
       "      <td>-8.089225</td>\n",
       "      <td>-60.285050</td>\n",
       "      <td>45.000000</td>\n",
       "      <td>57.250000</td>\n",
       "      <td>13.000000</td>\n",
       "      <td>3.780000</td>\n",
       "      <td>1.618704e+09</td>\n",
       "    </tr>\n",
       "    <tr>\n",
       "      <th>50%</th>\n",
       "      <td>25.636650</td>\n",
       "      <td>23.931400</td>\n",
       "      <td>62.345000</td>\n",
       "      <td>73.000000</td>\n",
       "      <td>65.000000</td>\n",
       "      <td>6.800000</td>\n",
       "      <td>1.618704e+09</td>\n",
       "    </tr>\n",
       "    <tr>\n",
       "      <th>75%</th>\n",
       "      <td>48.717750</td>\n",
       "      <td>92.579175</td>\n",
       "      <td>77.000000</td>\n",
       "      <td>86.000000</td>\n",
       "      <td>90.000000</td>\n",
       "      <td>10.360000</td>\n",
       "      <td>1.618704e+09</td>\n",
       "    </tr>\n",
       "    <tr>\n",
       "      <th>max</th>\n",
       "      <td>78.218600</td>\n",
       "      <td>179.316700</td>\n",
       "      <td>91.400000</td>\n",
       "      <td>100.000000</td>\n",
       "      <td>100.000000</td>\n",
       "      <td>28.630000</td>\n",
       "      <td>1.618704e+09</td>\n",
       "    </tr>\n",
       "  </tbody>\n",
       "</table>\n",
       "</div>"
      ],
      "text/plain": [
       "              Lat         Lng    Max Temp    Humidity  Cloudiness  Wind Speed  \\\n",
       "count  566.000000  566.000000  566.000000  566.000000  566.000000  566.000000   \n",
       "mean    20.360800   18.166861   58.590742   68.208481   53.657244    7.593304   \n",
       "std     33.896216   88.804134   21.416127   22.800303   38.369270    5.020832   \n",
       "min    -54.800000 -179.166700  -20.580000    6.000000    0.000000    0.290000   \n",
       "25%     -8.089225  -60.285050   45.000000   57.250000   13.000000    3.780000   \n",
       "50%     25.636650   23.931400   62.345000   73.000000   65.000000    6.800000   \n",
       "75%     48.717750   92.579175   77.000000   86.000000   90.000000   10.360000   \n",
       "max     78.218600  179.316700   91.400000  100.000000  100.000000   28.630000   \n",
       "\n",
       "               Date  \n",
       "count  5.660000e+02  \n",
       "mean   1.618704e+09  \n",
       "std    1.232918e+02  \n",
       "min    1.618703e+09  \n",
       "25%    1.618704e+09  \n",
       "50%    1.618704e+09  \n",
       "75%    1.618704e+09  \n",
       "max    1.618704e+09  "
      ]
     },
     "execution_count": 6,
     "metadata": {},
     "output_type": "execute_result"
    }
   ],
   "source": [
    "#homework instructions didnt say to create script for this but there was an image placeholder\n",
    "weather_data.describe()"
   ]
  },
  {
   "cell_type": "markdown",
   "metadata": {},
   "source": [
    "## Inspect the data and remove the cities where the humidity > 100%.\n",
    "----\n",
    "Skip this step if there are no cities that have humidity > 100%. "
   ]
  },
  {
   "cell_type": "code",
   "execution_count": 7,
   "metadata": {},
   "outputs": [],
   "source": [
    "#  Get the indices of cities that have humidity over 100%.\n",
    "\n",
    "#***SKIP***-No data in above chart showing humidity >100 (max is at 100, but not greater)"
   ]
  },
  {
   "cell_type": "code",
   "execution_count": 8,
   "metadata": {},
   "outputs": [],
   "source": [
    "# Make a new DataFrame equal to the city data to drop all humidity outliers by index.\n",
    "# Passing \"inplace=False\" will make a copy of the city_data DataFrame, which we call \"clean_city_data\".\n",
    "\n",
    "#***SKIP***-No data in above chart showing humidity >100 (max is at 100, but not greater)"
   ]
  },
  {
   "cell_type": "markdown",
   "metadata": {},
   "source": [
    "## Plotting the Data\n",
    "* Use proper labeling of the plots using plot titles (including date of analysis) and axes labels.\n",
    "* Save the plotted figures as .pngs."
   ]
  },
  {
   "cell_type": "markdown",
   "metadata": {},
   "source": [
    "## Latitude vs. Temperature Plot"
   ]
  },
  {
   "cell_type": "code",
   "execution_count": 24,
   "metadata": {
    "scrolled": true
   },
   "outputs": [
    {
     "data": {
      "image/png": "[encoded data removed]",
      "text/plain": [
       "<Figure size 432x288 with 1 Axes>"
      ]
     },
     "metadata": {
      "needs_background": "light"
     },
     "output_type": "display_data"
    }
   ],
   "source": [
    "plt.title(\"City Latitude vs. Max Temperature 4-17-21\")\n",
    "plt.xlabel(\"Latitude\")\n",
    "plt.ylabel(\"Max Temperature (F)\")\n",
    "plt.scatter(weather_dict[\"Lat\"], weather_dict[\"Max Temp\"], color = \"red\")\n",
    "\n",
    "plt.savefig(\"LatitudeTemperature.png\")\n",
    "plt.show()"
   ]
  },
  {
   "cell_type": "markdown",
   "metadata": {},
   "source": [
    "## Latitude vs. Humidity Plot"
   ]
  },
  {
   "cell_type": "code",
   "execution_count": 25,
   "metadata": {},
   "outputs": [
    {
     "data": {
      "image/png": "[encoded data removed]",
      "text/plain": [
       "<Figure size 432x288 with 1 Axes>"
      ]
     },
     "metadata": {
      "needs_background": "light"
     },
     "output_type": "display_data"
    }
   ],
   "source": [
    "plt.title(\"City Latitude vs. Humidity 4-17-21\")\n",
    "plt.xlabel(\"Latitude\")\n",
    "plt.ylabel(\"Humidity\")\n",
    "plt.scatter(weather_dict[\"Lat\"], weather_dict[\"Humidity\"],color = \"blue\")\n",
    "\n",
    "plt.savefig(\"LatitudeHumidity.png\")\n",
    "plt.show()"
   ]
  },
  {
   "cell_type": "markdown",
   "metadata": {},
   "source": [
    "## Latitude vs. Cloudiness Plot"
   ]
  },
  {
   "cell_type": "code",
   "execution_count": 26,
   "metadata": {},
   "outputs": [
    {
     "data": {
      "image/png": "[encoded data removed]",
      "text/plain": [
       "<Figure size 432x288 with 1 Axes>"
      ]
     },
     "metadata": {
      "needs_background": "light"
     },
     "output_type": "display_data"
    }
   ],
   "source": [
    "plt.title(\"City Latitude vs. Cloudiness 4-17-21\")\n",
    "plt.xlabel(\"Latitude\")\n",
    "plt.ylabel(\"Cloudiness\")\n",
    "plt.scatter(weather_dict[\"Lat\"], weather_dict[\"Cloudiness\"],color = \"gray\")\n",
    "\n",
    "plt.savefig(\"LatitudeCloudiness.png\")\n",
    "plt.show()"
   ]
  },
  {
   "cell_type": "markdown",
   "metadata": {},
   "source": [
    "## Latitude vs. Wind Speed Plot"
   ]
  },
  {
   "cell_type": "code",
   "execution_count": 27,
   "metadata": {},
   "outputs": [
    {
     "data": {
      "image/png": "[encoded data removed]",
      "text/plain": [
       "<Figure size 432x288 with 1 Axes>"
      ]
     },
     "metadata": {
      "needs_background": "light"
     },
     "output_type": "display_data"
    }
   ],
   "source": [
    "plt.title(\"City Latitude vs. Wind Speed 4-17-21\")\n",
    "plt.xlabel(\"Latitude\")\n",
    "plt.ylabel(\"Cloudiness\")\n",
    "plt.scatter(weather_dict[\"Lat\"], weather_dict[\"Wind Speed\"],color = \"black\")\n",
    "\n",
    "plt.savefig(\"LatitudeWindSpeed.png\")\n",
    "plt.show()"
   ]
  },
  {
   "cell_type": "markdown",
   "metadata": {},
   "source": [
    "## Linear Regression"
   ]
  },
  {
   "cell_type": "code",
   "execution_count": 28,
   "metadata": {},
   "outputs": [],
   "source": [
    "#create data\n",
    "x_values = weather_data['Lat']\n",
    "yt_values = weather_data['Max Temp']\n",
    "yh_values = weather_data['Humidity']\n",
    "yc_values = weather_data['Cloudiness']\n",
    "yw_values = weather_data['Wind Speed']"
   ]
  },
  {
   "cell_type": "markdown",
   "metadata": {},
   "source": [
    "####  Northern Hemisphere - Max Temp vs. Latitude Linear Regression"
   ]
  },
  {
   "cell_type": "code",
   "execution_count": 29,
   "metadata": {},
   "outputs": [
    {
     "data": {
      "image/png": "[encoded data removed]",
      "text/plain": [
       "<Figure size 432x288 with 1 Axes>"
      ]
     },
     "metadata": {
      "needs_background": "light"
     },
     "output_type": "display_data"
    }
   ],
   "source": [
    "(slope, intercept, rvalue, pvalue, stderr) = linregress(x_values, yt_values)\n",
    "regress_values = x_values * slope + intercept\n",
    "line_eq = \"y = \" + str(round(slope,2)) + \"x + \" + str(round(intercept,2))\n",
    "\n",
    "plt.title(\"NH Max Temp vs Latitude w/Linear Regression 4-17-21\")\n",
    "plt.scatter(x_values,yt_values, color = \"red\")\n",
    "plt.plot(x_values,regress_values,\"r-\")\n",
    "plt.annotate(line_eq,(6,10),fontsize=15,color=\"red\")\n",
    "plt.xlabel('Latitude')\n",
    "plt.ylabel('Max Temp')\n",
    "plt.savefig(\"LatitudeTempNHLinear.png\")\n",
    "plt.show()"
   ]
  },
  {
   "cell_type": "markdown",
   "metadata": {},
   "source": [
    "####  Southern Hemisphere - Max Temp vs. Latitude Linear Regression"
   ]
  },
  {
   "cell_type": "code",
   "execution_count": 30,
   "metadata": {},
   "outputs": [
    {
     "data": {
      "image/png": "[encoded data removed]",
      "text/plain": [
       "<Figure size 432x288 with 1 Axes>"
      ]
     },
     "metadata": {
      "needs_background": "light"
     },
     "output_type": "display_data"
    }
   ],
   "source": [
    "(slope, intercept, rvalue, pvalue, stderr) = linregress(x_values, yt_values)\n",
    "regress_values = x_values * slope + intercept\n",
    "line_eq = \"y = \" + str(round(slope,2)) + \"x + \" + str(round(intercept,2))\n",
    "\n",
    "plt.title(\"SH Max Temp vs Latitude w/Linear Regression 4-17-21\")\n",
    "plt.scatter(x_values,yt_values, color = \"red\")\n",
    "plt.plot(x_values,regress_values,\"r-\")\n",
    "plt.annotate(line_eq,(6,10),fontsize=15,color=\"red\")\n",
    "plt.xlabel('Latitude')\n",
    "plt.ylabel('Max Temp')\n",
    "plt.savefig(\"LatitudeTempSHLinear.png\")\n",
    "plt.show()"
   ]
  },
  {
   "cell_type": "markdown",
   "metadata": {},
   "source": [
    "####  Northern Hemisphere - Humidity (%) vs. Latitude Linear Regression"
   ]
  },
  {
   "cell_type": "code",
   "execution_count": 31,
   "metadata": {},
   "outputs": [
    {
     "data": {
      "image/png": "[encoded data removed]",
      "text/plain": [
       "<Figure size 432x288 with 1 Axes>"
      ]
     },
     "metadata": {
      "needs_background": "light"
     },
     "output_type": "display_data"
    }
   ],
   "source": [
    "(slope, intercept, rvalue, pvalue, stderr) = linregress(x_values, yh_values)\n",
    "regress_values = x_values * slope + intercept\n",
    "line_eq = \"y = \" + str(round(slope,2)) + \"x + \" + str(round(intercept,2))\n",
    "\n",
    "plt.title(\"NH Humidity % vs Latitude w/Linear Regression 4-17-21\")\n",
    "plt.scatter(x_values,yh_values, color = \"blue\")\n",
    "plt.plot(x_values,regress_values,\"r-\")\n",
    "plt.annotate(line_eq,(6,10),fontsize=15,color=\"red\")\n",
    "plt.xlabel('Latitude')\n",
    "plt.ylabel('Humidity')\n",
    "plt.savefig(\"LatitudeHumidityNHLinear.png\")\n",
    "plt.show()"
   ]
  },
  {
   "cell_type": "markdown",
   "metadata": {},
   "source": [
    "####  Southern Hemisphere - Humidity (%) vs. Latitude Linear Regression"
   ]
  },
  {
   "cell_type": "code",
   "execution_count": 32,
   "metadata": {},
   "outputs": [
    {
     "data": {
      "image/png": "[encoded data removed]",
      "text/plain": [
       "<Figure size 432x288 with 1 Axes>"
      ]
     },
     "metadata": {
      "needs_background": "light"
     },
     "output_type": "display_data"
    }
   ],
   "source": [
    "(slope, intercept, rvalue, pvalue, stderr) = linregress(x_values, yh_values)\n",
    "regress_values = x_values * slope + intercept\n",
    "line_eq = \"y = \" + str(round(slope,2)) + \"x + \" + str(round(intercept,2))\n",
    "\n",
    "plt.title(\"SH Humidity % vs Latitude w/Linear Regression 4-17-21\")\n",
    "plt.scatter(x_values,yh_values, color = \"blue\")\n",
    "plt.plot(x_values,regress_values,\"r-\")\n",
    "plt.annotate(line_eq,(6,10),fontsize=15,color=\"red\")\n",
    "plt.xlabel('Latitude')\n",
    "plt.ylabel('Humidity')\n",
    "plt.savefig(\"LatitudeHumiditySHLinear.png\")\n",
    "plt.show()"
   ]
  },
  {
   "cell_type": "markdown",
   "metadata": {},
   "source": [
    "####  Northern Hemisphere - Cloudiness (%) vs. Latitude Linear Regression"
   ]
  },
  {
   "cell_type": "code",
   "execution_count": 33,
   "metadata": {},
   "outputs": [
    {
     "data": {
      "image/png": "[encoded data removed]",
      "text/plain": [
       "<Figure size 432x288 with 1 Axes>"
      ]
     },
     "metadata": {
      "needs_background": "light"
     },
     "output_type": "display_data"
    }
   ],
   "source": [
    "(slope, intercept, rvalue, pvalue, stderr) = linregress(x_values, yc_values)\n",
    "regress_values = x_values * slope + intercept\n",
    "line_eq = \"y = \" + str(round(slope,2)) + \"x + \" + str(round(intercept,2))\n",
    "\n",
    "plt.title(\"NH Cloudiness % vs Latitude w/Linear Regression 4-17-21\")\n",
    "plt.scatter(x_values,yc_values, color = \"gray\")\n",
    "plt.plot(x_values,regress_values,\"r-\")\n",
    "plt.annotate(line_eq,(6,10),fontsize=15,color=\"red\")\n",
    "plt.xlabel('Latitude')\n",
    "plt.ylabel('Cloudiness')\n",
    "plt.savefig(\"LatitudeCloudinessNHLinear.png\")\n",
    "plt.show()"
   ]
  },
  {
   "cell_type": "markdown",
   "metadata": {},
   "source": [
    "####  Southern Hemisphere - Cloudiness (%) vs. Latitude Linear Regression"
   ]
  },
  {
   "cell_type": "code",
   "execution_count": 34,
   "metadata": {},
   "outputs": [
    {
     "data": {
      "image/png": "[encoded data removed]",
      "text/plain": [
       "<Figure size 432x288 with 1 Axes>"
      ]
     },
     "metadata": {
      "needs_background": "light"
     },
     "output_type": "display_data"
    }
   ],
   "source": [
    "(slope, intercept, rvalue, pvalue, stderr) = linregress(x_values, yc_values)\n",
    "regress_values = x_values * slope + intercept\n",
    "line_eq = \"y = \" + str(round(slope,2)) + \"x + \" + str(round(intercept,2))\n",
    "\n",
    "plt.title(\"SH Cloudiness % vs Latitude w/Linear Regression 4-17-21\")\n",
    "plt.scatter(x_values,yc_values, color = \"gray\")\n",
    "plt.plot(x_values,regress_values,\"r-\")\n",
    "plt.annotate(line_eq,(6,10),fontsize=15,color=\"red\")\n",
    "plt.xlabel('Latitude')\n",
    "plt.ylabel('Cloudiness')\n",
    "plt.savefig(\"LatitudeCloudinessSHLinear.png\")\n",
    "plt.show()"
   ]
  },
  {
   "cell_type": "markdown",
   "metadata": {},
   "source": [
    "####  Northern Hemisphere - Wind Speed (mph) vs. Latitude Linear Regression"
   ]
  },
  {
   "cell_type": "code",
   "execution_count": 35,
   "metadata": {},
   "outputs": [
    {
     "data": {
      "image/png": "[encoded data removed]",
      "text/plain": [
       "<Figure size 432x288 with 1 Axes>"
      ]
     },
     "metadata": {
      "needs_background": "light"
     },
     "output_type": "display_data"
    }
   ],
   "source": [
    "(slope, intercept, rvalue, pvalue, stderr) = linregress(x_values, yw_values)\n",
    "regress_values = x_values * slope + intercept\n",
    "line_eq = \"y = \" + str(round(slope,2)) + \"x + \" + str(round(intercept,2))\n",
    "\n",
    "plt.title(\"NH Wind Speed vs Latitude w/Linear Regression 4-17-21\")\n",
    "plt.scatter(x_values,yw_values, color = \"black\")\n",
    "plt.plot(x_values,regress_values,\"r-\")\n",
    "plt.annotate(line_eq,(6,10),fontsize=15,color=\"red\")\n",
    "plt.xlabel('Latitude')\n",
    "plt.ylabel('Wind Speed')\n",
    "\n",
    "plt.savefig(\"LatitudeWindspeedNHLinear.png\")\n",
    "plt.show()"
   ]
  },
  {
   "cell_type": "markdown",
   "metadata": {},
   "source": [
    "####  Southern Hemisphere - Wind Speed (mph) vs. Latitude Linear Regression"
   ]
  },
  {
   "cell_type": "code",
   "execution_count": 36,
   "metadata": {},
   "outputs": [
    {
     "data": {
      "image/png": "[encoded data removed]",
      "text/plain": [
       "<Figure size 432x288 with 1 Axes>"
      ]
     },
     "metadata": {
      "needs_background": "light"
     },
     "output_type": "display_data"
    }
   ],
   "source": [
    "(slope, intercept, rvalue, pvalue, stderr) = linregress(x_values, yw_values)\n",
    "regress_values = x_values * slope + intercept\n",
    "line_eq = \"y = \" + str(round(slope,2)) + \"x + \" + str(round(intercept,2))\n",
    "\n",
    "plt.title(\"SH Wind Speed mph vs Latitude w/Linear Regression 4-17-21\")\n",
    "plt.scatter(x_values,yw_values, color = \"black\")\n",
    "plt.plot(x_values,regress_values,\"r-\")\n",
    "plt.annotate(line_eq,(6,10),fontsize=15,color=\"red\")\n",
    "plt.xlabel('Latitude')\n",
    "plt.ylabel('Wind Speed')\n",
    "\n",
    "plt.savefig(\"LatitudeWindspeedSHLinear.png\")\n",
    "plt.show()"
   ]
  },
  {
   "cell_type": "code",
   "execution_count": null,
   "metadata": {},
   "outputs": [],
   "source": []
  },
  {
   "cell_type": "code",
   "execution_count": null,
   "metadata": {},
   "outputs": [],
   "source": []
  }
 ],
 "metadata": {
  "anaconda-cloud": {},
  "kernel_info": {
   "name": "python3"
  },
  "kernelspec": {
   "display_name": "Python 3",
   "language": "python",
   "name": "python3"
  },
  "language_info": {
   "codemirror_mode": {
    "name": "ipython",
    "version": 3
   },
   "file_extension": ".py",
   "mimetype": "text/x-python",
   "name": "python",
   "nbconvert_exporter": "python",
   "pygments_lexer": "ipython3",
   "version": "3.8.5"
  },
  "latex_envs": {
   "LaTeX_envs_menu_present": true,
   "autoclose": false,
   "autocomplete": true,
   "bibliofile": "biblio.bib",
   "cite_by": "apalike",
   "current_citInitial": 1,
   "eqLabelWithNumbers": true,
   "eqNumInitial": 1,
   "hotkeys": {
    "equation": "Ctrl-E",
    "itemize": "Ctrl-I"
   },
   "labels_anchors": false,
   "latex_user_defs": false,
   "report_style_numbering": false,
   "user_envs_cfg": false
  },
  "nteract": {
   "version": "0.12.3"
  }
 },
 "nbformat": 4,
 "nbformat_minor": 2
}
